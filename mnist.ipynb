{
 "cells": [
  {
   "cell_type": "markdown",
   "metadata": {},
   "source": [
    "# MNIST データセット\n",
    "\n",
    "## データセットアップ"
   ]
  },
  {
   "cell_type": "code",
   "execution_count": 1,
   "metadata": {
    "collapsed": false
   },
   "outputs": [
    {
     "name": "stderr",
     "output_type": "stream",
     "text": [
      "Using Theano backend.\n"
     ]
    },
    {
     "name": "stdout",
     "output_type": "stream",
     "text": [
      "train samples:  (60000, 784)\n",
      "test samples:  (10000, 784)\n"
     ]
    }
   ],
   "source": [
    "%matplotlib inline\n",
    "\n",
    "from keras.datasets import mnist\n",
    "import keras.models as kmodels\n",
    "import keras.layers.core as klayers\n",
    "import keras.optimizers as kopts\n",
    "import keras.utils as kutils\n",
    "import keras.callbacks as kcallbacks\n",
    "\n",
    "import matplotlib.pyplot as plt\n",
    "\n",
    "BATCH_SIZE = 128\n",
    "NB_CLASSES = 10\n",
    "NB_EPOCH = 100\n",
    "\n",
    "# load MNIST data\n",
    "(X_train, y_train), (X_test, y_test) = mnist.load_data()\n",
    "\n",
    "X_train = X_train.reshape(60000, 784).astype('float32') / 255.0\n",
    "X_test = X_test.reshape(10000, 784).astype('float32') / 255.0\n",
    "\n",
    "# convert class vectors to 1-of-K format\n",
    "y_train = kutils.np_utils.to_categorical(y_train, NB_CLASSES)\n",
    "y_test = kutils.np_utils.to_categorical(y_test, NB_CLASSES)\n",
    "\n",
    "print('train samples: ', X_train.shape)\n",
    "print('test samples: ', X_test.shape)"
   ]
  },
  {
   "cell_type": "markdown",
   "metadata": {},
   "source": [
    "## モデル作成"
   ]
  },
  {
   "cell_type": "code",
   "execution_count": 2,
   "metadata": {
    "collapsed": false
   },
   "outputs": [
    {
     "name": "stdout",
     "output_type": "stream",
     "text": [
      "building the model ...\n"
     ]
    }
   ],
   "source": [
    "# building the model\n",
    "print('building the model ...')\n",
    "\n",
    "model = kmodels.Sequential()\n",
    "\n",
    "model.add(klayers.Dense(512, input_shape=(784,)))\n",
    "model.add(klayers.Activation('relu'))\n",
    "model.add(klayers.Dropout(0.2))\n",
    "\n",
    "model.add(klayers.Dense(512))\n",
    "model.add(klayers.Activation('relu'))\n",
    "model.add(klayers.Dropout(0.2))\n",
    "\n",
    "model.add(klayers.Dense(10))\n",
    "model.add(klayers.Activation('softmax'))\n",
    "\n",
    "model.compile(loss='categorical_crossentropy',\n",
    "              optimizer=kopts.RMSprop(), metrics=['accuracy'])"
   ]
  },
  {
   "cell_type": "markdown",
   "metadata": {},
   "source": [
    "## 学習"
   ]
  },
  {
   "cell_type": "code",
   "execution_count": 3,
   "metadata": {
    "collapsed": false
   },
   "outputs": [
    {
     "name": "stdout",
     "output_type": "stream",
     "text": [
      "Train on 54000 samples, validate on 6000 samples\n",
      "Epoch 1/100\n",
      "54000/54000 [==============================] - 27s - loss: 0.2613 - acc: 0.9197 - val_loss: 0.0960 - val_acc: 0.9698\n",
      "Epoch 2/100\n",
      "54000/54000 [==============================] - 28s - loss: 0.1090 - acc: 0.9670 - val_loss: 0.0861 - val_acc: 0.9740\n",
      "Epoch 3/100\n",
      "54000/54000 [==============================] - 51s - loss: 0.0782 - acc: 0.9767 - val_loss: 0.0728 - val_acc: 0.9763\n",
      "Epoch 4/100\n",
      "54000/54000 [==============================] - 48s - loss: 0.0626 - acc: 0.9812 - val_loss: 0.0741 - val_acc: 0.9795\n",
      "Epoch 5/100\n",
      "54000/54000 [==============================] - 46s - loss: 0.0518 - acc: 0.9846 - val_loss: 0.0775 - val_acc: 0.9792\n",
      "Epoch 6/100\n",
      "54000/54000 [==============================] - 49s - loss: 0.0446 - acc: 0.9866 - val_loss: 0.0816 - val_acc: 0.9793\n"
     ]
    }
   ],
   "source": [
    "# early stopping\n",
    "early_stopping = kcallbacks.EarlyStopping(monitor='val_loss', patience=2)\n",
    "\n",
    "# training\n",
    "hist = model.fit(X_train, y_train,\n",
    "                 batch_size=BATCH_SIZE, verbose=True,\n",
    "                 nb_epoch=NB_EPOCH, validation_split=0.1,\n",
    "                 callbacks=[early_stopping])"
   ]
  },
  {
   "cell_type": "markdown",
   "metadata": {},
   "source": [
    "## 評価"
   ]
  },
  {
   "cell_type": "code",
   "execution_count": 4,
   "metadata": {
    "collapsed": false
   },
   "outputs": [
    {
     "name": "stdout",
     "output_type": "stream",
     "text": [
      " 9984/10000 [============================>.] - ETA: 0sTest loss: 0.0852070518944\n",
      "Test accuracy: 0.9784\n"
     ]
    },
    {
     "data": {
      "text/plain": [
       "<matplotlib.text.Text at 0x112addc88>"
      ]
     },
     "execution_count": 4,
     "metadata": {},
     "output_type": "execute_result"
    },
    {
     "data": {
      "image/png": "[encoded data removed]",
      "text/plain": [
       "<matplotlib.figure.Figure at 0x112abc908>"
      ]
     },
     "metadata": {},
     "output_type": "display_data"
    }
   ],
   "source": [
    "# evaluate\n",
    "score = model.evaluate(X_test, y_test, verbose=True)\n",
    "print('Test loss:', score[0])\n",
    "print('Test accuracy:', score[1])\n",
    "\n",
    "# plot loss\n",
    "loss = hist.history['loss']\n",
    "val_loss = hist.history['val_loss']\n",
    "\n",
    "nb_epoch = len(loss)\n",
    "\n",
    "plt.plot(range(nb_epoch), loss, marker='.', label='loss')\n",
    "plt.plot(range(nb_epoch), val_loss, marker='.', label='val_loss')\n",
    "plt.legend(loc='best', fontsize=10)\n",
    "plt.grid()\n",
    "plt.xlabel('epoch')\n",
    "plt.ylabel('loss')"
   ]
  }
 ],
 "metadata": {
  "kernelspec": {
   "display_name": "Python 3",
   "language": "python",
   "name": "python3"
  },
  "language_info": {
   "codemirror_mode": {
    "name": "ipython",
    "version": 3
   },
   "file_extension": ".py",
   "mimetype": "text/x-python",
   "name": "python",
   "nbconvert_exporter": "python",
   "pygments_lexer": "ipython3",
   "version": "3.5.2"
  }
 },
 "nbformat": 4,
 "nbformat_minor": 1
}
